{
 "cells": [
  {
   "cell_type": "code",
   "execution_count": 1,
   "metadata": {},
   "outputs": [
    {
     "data": {
      "text/plain": [
       "('inline', 'module://ipykernel.pylab.backend_inline')\n"
      ]
     },
     "execution_count": 1,
     "metadata": {},
     "output_type": "execute_result"
    }
   ],
   "source": [
    "import Foundation\n",
    "import TensorFlow\n",
    "import PythonKit\n",
    "\n",
    "%include \"EnableIPythonDisplay.swift\"\n",
    "IPythonDisplay.shell.enable_matplotlib(\"inline\")"
   ]
  },
  {
   "cell_type": "code",
   "execution_count": 2,
   "metadata": {},
   "outputs": [],
   "source": [
    "let pd = Python.import(\"pandas\")\n",
    "let metrics = Python.import(\"sklearn.metrics\")\n",
    "let plt = Python.import(\"matplotlib.pyplot\")"
   ]
  },
  {
   "cell_type": "code",
   "execution_count": 3,
   "metadata": {},
   "outputs": [
    {
     "data": {
      "text/plain": [
       "   sample_id  ...      prob\n",
       "0          1  ...  0.960625\n",
       "1          2  ...  0.846991\n",
       "2          3  ...  0.948300\n",
       "3          4  ...  0.895835\n",
       "4          5  ...  0.606713\n",
       "\n",
       "[5 rows x 5 columns]\n"
      ]
     },
     "execution_count": 3,
     "metadata": {},
     "output_type": "execute_result"
    }
   ],
   "source": [
    "let dsURL = URL(fileURLWithPath: \"/notebooks/language2motion.gt/data/labels_ds_v1_preds.csv\")\n",
    "let df = pd.read_csv(dsURL.path)\n",
    "df.head()"
   ]
  },
  {
   "cell_type": "code",
   "execution_count": 4,
   "metadata": {},
   "outputs": [
    {
     "data": {
      "text/plain": [
       "Index(['sample_id', 'text', 'label', 'pred', 'prob'], dtype='object')\n"
      ]
     },
     "execution_count": 4,
     "metadata": {},
     "output_type": "execute_result"
    }
   ],
   "source": [
    "df.columns"
   ]
  },
  {
   "cell_type": "code",
   "execution_count": 5,
   "metadata": {},
   "outputs": [],
   "source": [
    "let y_true = df.label.to_list()\n",
    "let y_pred = df.pred.to_list()"
   ]
  },
  {
   "cell_type": "code",
   "execution_count": 6,
   "metadata": {},
   "outputs": [
    {
     "data": {
      "text/plain": [
       "▿ 5 elements\n",
       "  - 0 : Doing something\n",
       "  - 1 : Performing motions with hands\n",
       "  - 2 : Walking and turning\n",
       "  - 3 : Walking forward few steps\n",
       "  - 4 : Walking or running\n"
      ]
     },
     "execution_count": 6,
     "metadata": {},
     "output_type": "execute_result"
    }
   ],
   "source": [
    "let labels = df[\"label\"].unique().sorted()\n",
    "labels"
   ]
  },
  {
   "cell_type": "code",
   "execution_count": 7,
   "metadata": {},
   "outputs": [
    {
     "data": {
      "text/plain": [
       "[[0.88135593 0.05649718 0.00376648 0.01883239 0.03954802]\n",
       " [0.03571429 0.83163265 0.03231293 0.06462585 0.03571429]\n",
       " [0.00518135 0.02072539 0.93005181 0.02590674 0.01813472]\n",
       " [0.02537313 0.05820896 0.0119403  0.85223881 0.05223881]\n",
       " [0.04181601 0.02986858 0.00477897 0.01792115 0.90561529]]\n"
      ]
     },
     "execution_count": 7,
     "metadata": {},
     "output_type": "execute_result"
    }
   ],
   "source": [
    "metrics.confusion_matrix(y_pred, y_true, labels: labels, normalize: \"true\")"
   ]
  },
  {
   "cell_type": "code",
   "execution_count": 8,
   "metadata": {},
   "outputs": [
    {
     "data": {
      "text/plain": [
       "[[468  30   2  10  21]\n",
       " [ 21 489  19  38  21]\n",
       " [  2   8 359  10   7]\n",
       " [ 17  39   8 571  35]\n",
       " [ 35  25   4  15 758]]\n"
      ]
     },
     "execution_count": 8,
     "metadata": {},
     "output_type": "execute_result"
    }
   ],
   "source": [
    "metrics.confusion_matrix(y_pred, y_true, labels: labels)"
   ]
  },
  {
   "cell_type": "code",
   "execution_count": 9,
   "metadata": {},
   "outputs": [
    {
     "data": {
      "text/plain": [
       "                               precision    recall  f1-score   support\n",
       "\n",
       "              Doing something       0.88      0.86      0.87       543\n",
       "Performing motions with hands       0.83      0.83      0.83       591\n",
       "          Walking and turning       0.93      0.92      0.92       392\n",
       "    Walking forward few steps       0.85      0.89      0.87       644\n",
       "           Walking or running       0.91      0.90      0.90       842\n",
       "\n",
       "                     accuracy                           0.88      3012\n",
       "                    macro avg       0.88      0.88      0.88      3012\n",
       "                 weighted avg       0.88      0.88      0.88      3012\n",
       "\n"
      ]
     },
     "execution_count": 9,
     "metadata": {},
     "output_type": "execute_result"
    }
   ],
   "source": [
    "metrics.classification_report(y_true, y_pred, labels: labels)"
   ]
  },
  {
   "cell_type": "code",
   "execution_count": 43,
   "metadata": {},
   "outputs": [
    {
     "data": {
      "text/plain": [
       "▿ 3 elements\n",
       "  - 0 : false\n",
       "  - 1 : false\n",
       "  - 2 : false\n"
      ]
     },
     "execution_count": 43,
     "metadata": {},
     "output_type": "execute_result"
    }
   ],
   "source": [
    "let badPreds = Python.list(df.iterrows()).map {\n",
    "    (python_tuple) -> Bool in \n",
    "    let row = python_tuple[1]\n",
    "    return (row[\"label\"] != row[\"pred\"])\n",
    "}\n",
    "badPreds[0..<3]"
   ]
  },
  {
   "cell_type": "code",
   "execution_count": 44,
   "metadata": {},
   "outputs": [],
   "source": [
    "extension Bool {\n",
    "    var intValue: Int {\n",
    "        return self ? 1 : 0\n",
    "    }\n",
    "}"
   ]
  },
  {
   "cell_type": "code",
   "execution_count": 45,
   "metadata": {},
   "outputs": [
    {
     "data": {
      "text/plain": [
       "367\n"
      ]
     },
     "execution_count": 45,
     "metadata": {},
     "output_type": "execute_result"
    }
   ],
   "source": [
    "badPreds.reduce(0, { res, elem in\n",
    "    res + (elem).intValue\n",
    "})"
   ]
  },
  {
   "cell_type": "raw",
   "metadata": {},
   "source": [
    "let badPreds = Python.list(df.iterrows()).filter {\n",
    "    (python_tuple) -> Bool in \n",
    "    let row = python_tuple[1]\n",
    "    return (row[\"label\"] != row[\"pred\"])\n",
    "}\n",
    "badPreds[0..<3]"
   ]
  },
  {
   "cell_type": "code",
   "execution_count": 48,
   "metadata": {},
   "outputs": [
    {
     "data": {
      "text/plain": [
       "None\n"
      ]
     },
     "execution_count": 48,
     "metadata": {},
     "output_type": "execute_result"
    }
   ],
   "source": [
    "df[badPreds].to_csv(\"/notebooks/language2motion.gt/data/labels_ds_v1_bad_preds.csv\", index: false)"
   ]
  },
  {
   "cell_type": "code",
   "execution_count": 49,
   "metadata": {},
   "outputs": [
    {
     "data": {
      "text/plain": [
       "Walking or running               842\n",
       "Walking forward few steps        644\n",
       "Performing motions with hands    591\n",
       "Doing something                  543\n",
       "Walking and turning              392\n",
       "Name: label, dtype: int64\n"
      ]
     },
     "execution_count": 49,
     "metadata": {},
     "output_type": "execute_result"
    }
   ],
   "source": [
    "df[\"label\"].value_counts()"
   ]
  },
  {
   "cell_type": "code",
   "execution_count": null,
   "metadata": {},
   "outputs": [],
   "source": []
  }
 ],
 "metadata": {
  "kernelspec": {
   "display_name": "Swift",
   "language": "swift",
   "name": "swift"
  },
  "language_info": {
   "file_extension": ".swift",
   "mimetype": "text/x-swift",
   "name": "swift",
   "version": ""
  }
 },
 "nbformat": 4,
 "nbformat_minor": 4
}
