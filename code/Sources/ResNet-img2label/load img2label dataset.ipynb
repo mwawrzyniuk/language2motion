{
 "cells": [
  {
   "cell_type": "markdown",
   "metadata": {},
   "source": [
    "# load img2label dataset"
   ]
  },
  {
   "cell_type": "code",
   "execution_count": 1,
   "metadata": {},
   "outputs": [
    {
     "name": "stdout",
     "output_type": "stream",
     "text": [
      "Installing packages:\n",
      "\t.package(path: \"/notebooks/language2motion.gt/code\")\n",
      "\t\tBatcher\n",
      "\t\tModelSupport\n",
      "\t\tDatasets\n",
      "\t\tImageClassificationModels\n",
      "With SwiftPM flags: ['-c', 'release']\n",
      "Working in: /tmp/tmp5csvrusw/swift-install\n",
      "Fetching https://github.com/apple/swift-protobuf.git\n",
      "Cloning https://github.com/apple/swift-protobuf.git\n",
      "Resolving https://github.com/apple/swift-protobuf.git at 1.8.0\n",
      "[1/6] Compiling STBImage stb_image_write.c\n",
      "[2/6] Compiling Batcher Backend.swift\n",
      "[3/6] Compiling STBImage stb_image.c\n",
      "[4/6] Compiling SwiftProtobuf AnyMessageStorage.swift\n",
      "/notebooks/language2motion.gt/code/Sources/ResNet-img2label/swift-install/package/.build/checkouts/swift-protobuf/Sources/SwiftProtobuf/BinaryDelimited.swift:198:7: warning: variable 'readBuffer' was never mutated; consider changing to 'let' constant\n",
      "  var readBuffer = UnsafeMutablePointer<UInt8>.allocate(capacity: 1)\n",
      "  ~~~ ^\n",
      "  let\n",
      "[5/7] Compiling ImageClassificationModels DenseNet121.swift\n",
      "[6/7] Compiling ModelSupport BijectiveDictionary.swift\n",
      "[7/8] Compiling Datasets BostonHousing.swift\n",
      "/notebooks/language2motion.gt/code/Sources/Datasets/TensorPair.swift:24:71: error: 'Collatable' is ambiguous for type lookup in this context\n",
      "public struct TensorPair<S1: TensorFlowScalar, S2: TensorFlowScalar>: Collatable, KeyPathIterable {\n",
      "                                                                      ^~~~~~~~~~\n",
      "TensorFlow.Collatable:1:17: note: found this candidate\n",
      "public protocol Collatable {\n",
      "                ^\n",
      "/notebooks/language2motion.gt/code/Sources/Batcher/Collatable.swift:25:17: note: found this candidate\n",
      "public protocol Collatable: _Collatable {\n",
      "                ^\n",
      "/notebooks/language2motion.gt/code/Sources/Datasets/TensorPair.swift:24:15: error: type 'TensorPair<S1, S2>' does not conform to protocol 'Collatable'\n",
      "public struct TensorPair<S1: TensorFlowScalar, S2: TensorFlowScalar>: Collatable, KeyPathIterable {\n",
      "              ^\n",
      "/notebooks/language2motion.gt/code/Sources/Batcher/Collatable.swift:60:12: note: candidate has non-matching type '(collating: [Self])'\n",
      "    public init(collating roots: [Self]) {\n",
      "           ^\n",
      "TensorFlow.Collatable:2:5: note: protocol requires initializer 'init(collating:)' with type '(collating: BatchSamples)'\n",
      "    init<BatchSamples>(collating: BatchSamples) where Self == BatchSamples.Element, BatchSamples : Collection\n",
      "    ^\n"
     ]
    },
    {
     "ename": "",
     "evalue": "",
     "execution_count": 1,
     "output_type": "error",
     "status": "error",
     "traceback": [
      "Install Error: swift-build returned nonzero exit code 1."
     ]
    }
   ],
   "source": [
    "%install-location $cwd/swift-install\n",
    "%install-swiftpm-flags -c release\n",
    "// %install '.package(url: \"https://github.com/tensorflow/swift-models\", .branch(\"tensorflow-0.8\"))' Batcher ModelSupport Datasets\n",
    "%install '.package(path: \"/notebooks/language2motion.gt/code\")' Batcher ModelSupport Datasets ImageClassificationModels"
   ]
  },
  {
   "cell_type": "raw",
   "metadata": {},
   "source": [
    "!pip install pillow\n",
    "!pip install scikit-learn"
   ]
  },
  {
   "cell_type": "code",
   "execution_count": 2,
   "metadata": {},
   "outputs": [],
   "source": [
    "import Foundation\n",
    "import PythonKit\n",
    "import TensorFlow\n",
    "\n",
    "import Batcher\n",
    "import ModelSupport\n",
    "import Datasets\n",
    "\n",
    "import ImageClassificationModels"
   ]
  },
  {
   "cell_type": "code",
   "execution_count": 7,
   "metadata": {},
   "outputs": [],
   "source": [
    "%include \"EnableIPythonDisplay.swift\"\n",
    "IPythonDisplay.shell.enable_matplotlib(\"inline\")\n",
    "\n",
    "let plt = Python.import(\"matplotlib.pyplot\")\n",
    "let np  = Python.import(\"numpy\")\n",
    "let random  = Python.import(\"random\")\n",
    "let sklearn  = Python.import(\"sklearn\")\n",
    "let model_selection  = Python.import(\"sklearn.model_selection\")\n",
    "let subprocess = Python.import(\"subprocess\")\n",
    "let glob = Python.import(\"glob\")\n",
    "let pil = Python.import(\"PIL\")\n",
    "let Image = Python.import(\"PIL.Image\")"
   ]
  },
  {
   "cell_type": "code",
   "execution_count": 4,
   "metadata": {},
   "outputs": [],
   "source": [
    "// TODO:\n",
    "// - download dataset if not present\n",
    "// - unpack dataset"
   ]
  },
  {
   "cell_type": "raw",
   "metadata": {},
   "source": [
    "let dsURL = URL(fileURLWithPath: \"/notebooks/language2motion.gt/data/img2label_ds_v1\", isDirectory: true)"
   ]
  },
  {
   "cell_type": "markdown",
   "metadata": {},
   "source": [
    "## load image"
   ]
  },
  {
   "cell_type": "code",
   "execution_count": 5,
   "metadata": {},
   "outputs": [],
   "source": [
    "let im65URL = URL(fileURLWithPath: \"/notebooks/language2motion.gt/data/img2label_ds_v1/Doing something/00065.png\")"
   ]
  },
  {
   "cell_type": "code",
   "execution_count": 8,
   "metadata": {},
   "outputs": [
    {
     "data": {
      "image/png": "[encoded data removed]",
      "text/plain": [
       "<Figure size 432x288 with 1 Axes>"
      ]
     },
     "metadata": {},
     "output_type": "display_data"
    },
    {
     "data": {
      "text/plain": [
       "None\n"
      ]
     },
     "execution_count": 8,
     "metadata": {},
     "output_type": "execute_result"
    }
   ],
   "source": [
    "let img = Image.open(im65URL.path)\n",
    "plt.imshow(img)\n",
    "plt.show()"
   ]
  },
  {
   "cell_type": "raw",
   "metadata": {},
   "source": [
    "## enumerate folders, get labels"
   ]
  },
  {
   "cell_type": "raw",
   "metadata": {},
   "source": [
    "let fm = FileManager()\n",
    "let labels = fm.contentsOfDirectory(atPath: dsURL.path).filter({ !$0.hasPrefix(\".\") }).sorted()\n",
    "labels"
   ]
  },
  {
   "cell_type": "raw",
   "metadata": {},
   "source": [
    "let labelList = glob.glob(dsURL.path + \"/*\")\n",
    "labelList"
   ]
  },
  {
   "cell_type": "markdown",
   "metadata": {},
   "source": [
    "## enumerate images"
   ]
  },
  {
   "cell_type": "raw",
   "metadata": {},
   "source": [
    "let imageList = glob.glob(dsURL.path + \"/**/*.png\")\n",
    "imageList.count"
   ]
  },
  {
   "cell_type": "raw",
   "metadata": {},
   "source": [
    "let (trainPythonList, testPythonList) = model_selection.train_test_split(imageList, test_size: 0.2).tuple2\n",
    "let (trainList, testList): ([String], [String]) = (Array(trainPythonList)!, Array(testPythonList)!)\n",
    "(trainList.count, testList.count)"
   ]
  },
  {
   "cell_type": "code",
   "execution_count": null,
   "metadata": {},
   "outputs": [],
   "source": [
    "/// load the image and extract the label\n",
    "/// from Swift4TF_TransferLearning.ipynb\n",
    "func getTensorLabel(_ imageURL: URL, labels: [String]) -> (Tensor<Float>, Int32){\n",
    "  \n",
    "    let label: Int32\n",
    "  \n",
    "    let labelStr = imageURL.deletingLastPathComponent().lastPathComponent\n",
    "    label = Int32(labels.index(of: labelStr)!)\n",
    "  \n",
    "    let img = pil.Image.open(imageURL.path)\n",
    "    let arr = np.array(img)[0..<224, 0..<224, 0..<3] // kill transparency\n",
    "    let image = Tensor<UInt8>(numpy: arr)!\n",
    "\n",
    "    var tensor = Tensor<Float>(image)\n",
    "    tensor = Raw.expandDims(tensor, dim: Tensor<Int32>(0))\n",
    "    tensor = Raw.resizeArea(images:tensor, size:[224, 224])\n",
    "    return (tensor.squeezingShape(at: 0), label)\n",
    "}\n",
    "\n",
    "// let (tensor, label) = getTensorLabel(URL(fileURLWithPath: im65URL.path), labels: labels)\n",
    "// tensor.shape"
   ]
  },
  {
   "cell_type": "code",
   "execution_count": null,
   "metadata": {},
   "outputs": [],
   "source": [
    "func loadImages(imageList: [String], labels: [String], normalizing: Bool = true) -> [TensorPair<Float, Int32>] {\n",
    "    let tensorLabels = imageList.map {\n",
    "        getTensorLabel(URL(fileURLWithPath: $0), labels: labels)\n",
    "    }\n",
    "    \n",
    "    let imageCount = tensorLabels.count\n",
    "    let labelTensor = Tensor<Int64>(shape: [imageCount], scalars: tensorLabels.map {Int64($0.1)})\n",
    "\n",
    "    var imageTensor = Tensor<Float>(stacking: tensorLabels.map {$0.0}, alongAxis: 0)\n",
    "\n",
    "    // The value of mean and std were calculated with the following Swift code:\n",
    "    // ```\n",
    "    // import TensorFlow\n",
    "    // import Datasets\n",
    "    // import Foundation\n",
    "\n",
    "    // let dsURL = URL(fileURLWithPath: \"/notebooks/language2motion.gt/data/img2label_ds_v1\", isDirectory: true)\n",
    "    // let dataset = Img2Label(batchSize: 2500, dsURL: dsURL, normalizing: false)\n",
    "    // print(\"dataset.training.count: \\(dataset.training.count)\")\n",
    "    // for batch in dataset.training.sequenced() {\n",
    "    //     let images = Tensor<Double>(batch.first) / 255.0\n",
    "    //     let mom = images.moments(squeezingAxes: [0,1,2])\n",
    "    //     print(\"mean: \\(mom.mean) std: \\(sqrt(mom.variance))\")\n",
    "    // }\n",
    "    // ```\n",
    "    if normalizing {\n",
    "        let mean = Tensor<Float>(\n",
    "                [0.8836673330105219,\n",
    "                 0.8571306618582774,\n",
    "                 0.5989467475049005])\n",
    "        let std = Tensor<Float>(\n",
    "                [0.1870305997172803,\n",
    "                 0.1698038429051249,\n",
    "                 0.11811759458558127])\n",
    "        imageTensor = ((imageTensor / 255.0) - mean) / std\n",
    "    }\n",
    "    \n",
    "    return (0..<imageCount).map { TensorPair(first: imageTensor[$0], second: Tensor<Int32>(labelTensor[$0])) }\n",
    "        \n",
    "}"
   ]
  },
  {
   "cell_type": "raw",
   "metadata": {},
   "source": [
    "let tensorPairs = loadImages(imageList: testList, labels: labels, normalizing: true)"
   ]
  },
  {
   "cell_type": "raw",
   "metadata": {},
   "source": [
    "tensorPairs.count"
   ]
  },
  {
   "cell_type": "raw",
   "metadata": {},
   "source": [
    "func downloadCIFAR10IfNotPresent(from location: URL, to directory: URL) {\n",
    "    let downloadPath = directory.appendingPathComponent(\"cifar-10-batches-bin\").path\n",
    "    let directoryExists = FileManager.default.fileExists(atPath: downloadPath)\n",
    "    let contentsOfDir = try? FileManager.default.contentsOfDirectory(atPath: downloadPath)\n",
    "    let directoryEmpty = (contentsOfDir == nil) || (contentsOfDir!.isEmpty)\n",
    "\n",
    "    guard !directoryExists || directoryEmpty else { return }\n",
    "\n",
    "    let _ = DatasetUtilities.downloadResource(\n",
    "        filename: \"cifar-10-binary\", fileExtension: \"tar.gz\",\n",
    "        remoteRoot: location.deletingLastPathComponent(), localStorageDirectory: directory)\n",
    "}"
   ]
  },
  {
   "cell_type": "code",
   "execution_count": null,
   "metadata": {},
   "outputs": [],
   "source": [
    "public struct Img2Label: ImageClassificationDataset {\n",
    "    public typealias SourceDataSet = [TensorPair<Float, Int32>]\n",
    "    public let training: Batcher<SourceDataSet>\n",
    "    public let test: Batcher<SourceDataSet>\n",
    "    public let labels: [String]\n",
    "\n",
    "    public init(batchSize: Int) {\n",
    "        let dsURL = URL(fileURLWithPath: \"/notebooks/language2motion.gt/data/img2label_ds_v1\", isDirectory: true)\n",
    "        self.init(batchSize: batchSize, dsURL: dsURL)\n",
    "    }\n",
    "\n",
    "    public init(batchSize: Int, dsURL: URL, normalizing: Bool = true) {\n",
    "        let labels2: [String] = Img2Label.loadLabels(dsURL)\n",
    "        \n",
    "        let imageList = glob.glob(dsURL.path + \"/**/*.png\")\n",
    "        let (trainPythonList, testPythonList) = model_selection.train_test_split(imageList, test_size: 0.2).tuple2\n",
    "        let (trainList, testList): ([String], [String]) = (Array(trainPythonList)!.sorted(), Array(testPythonList)!.sorted())\n",
    "        \n",
    "        let trainTensorPairs = loadImages(imageList: trainList, labels: labels2, normalizing: normalizing)\n",
    "        print(\"trainTensorPairs.count = \\(trainTensorPairs.count)\")\n",
    "        let testTensorPairs = loadImages(imageList: testList, labels: labels2, normalizing: normalizing)\n",
    "        print(\"testTensorPairs.count = \\(testTensorPairs.count)\")\n",
    "        self.training = Batcher(\n",
    "            on: trainTensorPairs,\n",
    "            batchSize: batchSize,\n",
    "            numWorkers: 1, //No need to use parallelism since everything is loaded in memory\n",
    "            shuffle: true)\n",
    "        self.test = Batcher(\n",
    "            on: testTensorPairs,\n",
    "            batchSize: batchSize,\n",
    "            numWorkers: 1,\n",
    "            shuffle: true)\n",
    "        self.labels = labels2\n",
    "    }\n",
    "    \n",
    "    static func loadLabels(_ dsURL: URL) -> [String] {\n",
    "        let fm = FileManager()\n",
    "        let labels = try! fm.contentsOfDirectory(atPath: dsURL.path).filter({ !$0.hasPrefix(\".\") }).sorted()\n",
    "        return labels\n",
    "    }\n",
    "}"
   ]
  },
  {
   "cell_type": "code",
   "execution_count": null,
   "metadata": {},
   "outputs": [],
   "source": [
    "let batchSize = 25\n",
    "\n",
    "let dsURL = URL(fileURLWithPath: \"/notebooks/language2motion.gt/data/img2label_ds_v1\", isDirectory: true)\n",
    "\n",
    "let dataset = Img2Label(batchSize: batchSize, dsURL: dsURL, normalizing: true)\n",
    "print(\"dataset.training.count: \\(dataset.training.count)\")\n",
    "print(\"dataset.test.count: \\(dataset.test.count)\")"
   ]
  },
  {
   "cell_type": "markdown",
   "metadata": {},
   "source": [
    "## training"
   ]
  },
  {
   "cell_type": "code",
   "execution_count": null,
   "metadata": {},
   "outputs": [],
   "source": [
    "// Use the network sized for CIFAR-10\n",
    "var model = ResNet(classCount: 5, depth: .resNet56, downsamplingInFirstStage: false)\n",
    "\n",
    "// the classic ImageNet optimizer setting diverges on CIFAR-10\n",
    "// let optimizer = SGD(for: model, learningRate: 0.1, momentum: 0.9)\n",
    "let optimizer = SGD(for: model, learningRate: 0.001)"
   ]
  },
  {
   "cell_type": "code",
   "execution_count": null,
   "metadata": {},
   "outputs": [],
   "source": [
    "print(\"Starting img2label training...\")\n",
    "\n",
    "for epoch in 1...10 {\n",
    "    print(\"epoch \\(epoch)\")\n",
    "    Context.local.learningPhase = .training\n",
    "    var trainingLossSum: Float = 0\n",
    "    var trainingBatchCount = 0\n",
    "    for batch in dataset.training.sequenced() {\n",
    "        print(\"progress \\(100.0*Float(trainingBatchCount)/Float(dataset.training.count))%\")\n",
    "        let (images, labels) = (batch.first, batch.second)\n",
    "        let (loss, gradients) = valueWithGradient(at: model) { model -> Tensor<Float> in\n",
    "            let logits = model(images)\n",
    "            return softmaxCrossEntropy(logits: logits, labels: labels)\n",
    "        }\n",
    "        trainingLossSum += loss.scalarized()\n",
    "        trainingBatchCount += 1\n",
    "        optimizer.update(&model, along: gradients)\n",
    "    }\n",
    "\n",
    "    Context.local.learningPhase = .inference\n",
    "    var testLossSum: Float = 0\n",
    "    var testBatchCount = 0\n",
    "    var correctGuessCount = 0\n",
    "    var totalGuessCount = 0\n",
    "    for batch in dataset.test.sequenced() {\n",
    "        print(\"batch\")\n",
    "        let (images, labels) = (batch.first, batch.second)\n",
    "        let logits = model(images)\n",
    "        testLossSum += softmaxCrossEntropy(logits: logits, labels: labels).scalarized()\n",
    "        testBatchCount += 1\n",
    "\n",
    "        let correctPredictions = logits.argmax(squeezingAxis: 1) .== labels\n",
    "        correctGuessCount = correctGuessCount\n",
    "            + Int(\n",
    "                Tensor<Int32>(correctPredictions).sum().scalarized())\n",
    "        totalGuessCount = totalGuessCount + batchSize\n",
    "    }\n",
    "\n",
    "    let accuracy = Float(correctGuessCount) / Float(totalGuessCount)\n",
    "    print(\n",
    "        \"\"\"\n",
    "        [Epoch \\(epoch)] \\\n",
    "        Accuracy: \\(correctGuessCount)/\\(totalGuessCount) (\\(accuracy)) \\\n",
    "        Loss: \\(testLossSum / Float(testBatchCount))\n",
    "        \"\"\"\n",
    "    )\n",
    "}"
   ]
  },
  {
   "cell_type": "raw",
   "metadata": {},
   "source": [
    "## calculate mean and std"
   ]
  },
  {
   "cell_type": "code",
   "execution_count": null,
   "metadata": {},
   "outputs": [],
   "source": [
    "// import TensorFlow\n",
    "// import Datasets\n",
    "// import Foundation\n",
    "\n",
    "// let dsURL = URL(fileURLWithPath: \"/notebooks/language2motion.gt/data/img2label_ds_v1\", isDirectory: true)\n",
    "// let dataset = Img2Label(batchSize: 2500, dsURL: dsURL, normalizing: false)\n",
    "// print(\"dataset.training.count: \\(dataset.training.count)\")\n",
    "// for batch in dataset.training.sequenced() {\n",
    "//     let images = Tensor<Double>(batch.first) / 255.0\n",
    "//     let mom = images.moments(squeezingAxes: [0,1,2])\n",
    "//     print(\"mean: \\(mom.mean) std: \\(sqrt(mom.variance))\")\n",
    "// }"
   ]
  },
  {
   "cell_type": "code",
   "execution_count": null,
   "metadata": {},
   "outputs": [],
   "source": []
  }
 ],
 "metadata": {
  "kernelspec": {
   "display_name": "Swift",
   "language": "swift",
   "name": "swift"
  },
  "language_info": {
   "file_extension": ".swift",
   "mimetype": "text/x-swift",
   "name": "swift",
   "version": ""
  }
 },
 "nbformat": 4,
 "nbformat_minor": 4
}
